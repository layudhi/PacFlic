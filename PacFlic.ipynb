{
 "cells": [
  {
   "cell_type": "markdown",
   "id": "c2af6f9d-1a73-49a8-8f89-ff0afb2de0e0",
   "metadata": {},
   "source": [
    "Case Study"
   ]
  },
  {
   "cell_type": "code",
   "execution_count": 45,
   "id": "5ac4d7c5-032d-4d86-9041-d958f4a7e701",
   "metadata": {},
   "outputs": [],
   "source": [
    "from tabulate import tabulate\n",
    "\n",
    "# tinggal di run saja\n",
    "database = {\n",
    "    \"Shandy\": [\"Basic Plan\", 12, \"shandy-2134\"],\n",
    "    \"Cahya\": [\"Standard Plan\", 24, \"cahya-abcd\"],\n",
    "    \"Ana\": [\"Premium Plan\", 5, \"ana-2f9g\"],\n",
    "    \"Bagus\": [\"Basic Plan\", 11, \"bagus-9f92\"],\n",
    "    \"Yudhi\" : [\"Basic Plan\", 16, \"layudhi_123\"]\n",
    "}\n",
    "\n",
    "class User():\n",
    "    def __init__(self, username):\n",
    "        self.username = username\n",
    "        #self.current_plan = current_plan\n",
    "        #self.duration_plan = duration_plan\n",
    "\n",
    "    def check_benefit(self):\n",
    "        data = [\n",
    "            ['Stream', 'YES', 'YES', 'YES'],\n",
    "            ['Download', 'YES', 'YES', 'YES'],\n",
    "            ['SD Quality', 'YES', 'YES', 'YES'],\n",
    "            ['HD Quality', 'NO', 'YES', 'YES'],\n",
    "            ['UHD Quality', 'NO', 'NO', 'YES'],\n",
    "            ['Devices', 1, 2, 4],\n",
    "            ['Content', '3rd Party Movies Only', 'Basic Plan + Sports',\n",
    "             'All Plan + Original Series/Movies'],\n",
    "            ['Price', 120_000, 160_000, 200_000]\n",
    "        ]\n",
    "\n",
    "        headers = ['SERVICES', 'BASIC PLAN', 'STANDARD PLAN', 'PREMIUM PLAN']\n",
    "        table_benefit = tabulate(data, headers,tablefmt='github')\n",
    "        print('Pacflix Subscription Plan')\n",
    "        print(' ')\n",
    "        print(table_benefit)\n",
    "        \n",
    "    def check_plan(self, username):\n",
    "        for key, value in database.items():\n",
    "            if key == self.username:\n",
    "                print(f' Current Plan is : {value[0]} \\n Plan Duration is : {value[1]} Bulan \\n Plan Details as follow :')\n",
    "                print(' ')\n",
    "\n",
    "                try:\n",
    "                    if value[0] == 'Basic Plan':\n",
    "                        table = [\n",
    "                            ['Stream', 'YES'],\n",
    "                            ['Download', 'YES'],\n",
    "                            ['SD Quality', 'YES'],\n",
    "                            ['HD Quality', 'NO'],\n",
    "                            ['UHD Quality', 'NO'],\n",
    "                            ['Devices', 1],\n",
    "                            ['Content', '3rd Party Movies Only'],\n",
    "                            ['Price', 120_000]\n",
    "                        ]\n",
    "                        headers = ['SERVICES', 'BASIC PLAN']\n",
    "                        print(f'{value[0]} Pacflix List from {self.username} is:')\n",
    "                        print(' ')\n",
    "                        print(tabulate(table, headers,tablefmt='github'))\n",
    "                        \n",
    "                    elif value[0] == 'Standard Plan':\n",
    "                        table = [\n",
    "                            ['Stream', 'YES'],\n",
    "                            ['Download', 'YES'],\n",
    "                            ['SD Quality', 'YES'],\n",
    "                            ['HD Quality', 'YES'],\n",
    "                            ['UHD Quality', 'NO'],\n",
    "                            ['Devices', 2],\n",
    "                            ['Content', 'Basic Plan + Sports (F1, Football, Basketball)'],\n",
    "                            ['Price', 160_000]\n",
    "                        ]\n",
    "                        headers = ['SERVICES', 'STANDARD PLAN']\n",
    "                        print(f' {value[0]} Pacflix List from {self.username} is:')\n",
    "                        print(' ')\n",
    "                        print(tabulate(table, headers,tablefmt='github'))\n",
    "\n",
    "                    elif value[0] == 'Premium Plan':\n",
    "                        table = [\n",
    "                            ['Stream', 'YES'],\n",
    "                            ['Download', 'YES'],\n",
    "                            ['SD Quality', 'YES'],\n",
    "                            ['HD Quality', 'YES'],\n",
    "                            ['UHD Quality', 'YES'],\n",
    "                            ['Devices', 4],\n",
    "                            ['Content', 'All Plan + PacFlic original Series or Movie'],\n",
    "                            ['Price', 200_000]\n",
    "                        ]\n",
    "                        headers = ['SERVICES', 'PREMIUM PLAN']\n",
    "                        print(f' {value[0]} Pacflix List from {self.username} is:')\n",
    "                        print(' ')\n",
    "                        print(tabulate(table, headers,tablefmt='github'))\n",
    "\n",
    "                    else:\n",
    "                        raise Exception('No Plan')\n",
    "                except:\n",
    "                    print('Plan do not exist')\n",
    "\n",
    "    def upgrade_plan(self, username, new_plan):\n",
    "        grading = {'Basic Plan' : [1, 1],\n",
    "                   'Standard Plan' : [2, 2],\n",
    "                   'Premium Plan' : [3, 3]\n",
    "                  }\n",
    "\n",
    "        for key_db, value in database.items():\n",
    "            if key_db == self.username:\n",
    "                for key_gd, val in grading.items():\n",
    "                    if key_gd == value[0]:\n",
    "                        grad_cp = val[0]\n",
    "                        grad_np = grading[new_plan][1]\n",
    "\n",
    "                    print(f'Grading Current Plan is : {grad_cp}')\n",
    "                    print(f'Grading New plan is : {grad_np}')\n",
    "                    print('-------------')\n",
    "\n",
    "                    try:\n",
    "                        if grad_np == grad_cp:\n",
    "                            print(f'Cannot proceed with same request plan \\n Current Plan : {self.current_plan} \\n New Plan : {self.new_plan}')\n",
    "                        elif grad_np < grad_cp:\n",
    "                            print('Downgrade cannot be proceeded')\n",
    "                        elif grad_np > grad_cp:\n",
    "                            if self.duration_plan > 12:\n",
    "                                if new_plan == 'Standard Plan':\n",
    "                                    price = 160000 - (0.05 * 120000)\n",
    "                                    return price\n",
    "                                elif new_plan == 'Premium Plan':\n",
    "                                    price = 200000 - (0.05 * 200000)\n",
    "                                    return price\n",
    "                                    \n",
    "                            elif self.duration_plan <= 12:\n",
    "                                if new_plan == 'Standard Plan':\n",
    "                                    price = 160000\n",
    "                                    return price\n",
    "                                elif new_plan == 'Premium Plan':\n",
    "                                    price = 200000\n",
    "                                    return price\n",
    "                    except:\n",
    "                        print('Provided plan description do not exsist')\n",
    "        "
   ]
  },
  {
   "cell_type": "code",
   "execution_count": 46,
   "id": "4207a59c-67fb-406a-b142-6b055f15eec6",
   "metadata": {},
   "outputs": [
    {
     "name": "stdout",
     "output_type": "stream",
     "text": [
      "Pacflix Subscription Plan\n",
      " \n",
      "| SERVICES    | BASIC PLAN            | STANDARD PLAN       | PREMIUM PLAN                      |\n",
      "|-------------|-----------------------|---------------------|-----------------------------------|\n",
      "| Stream      | YES                   | YES                 | YES                               |\n",
      "| Download    | YES                   | YES                 | YES                               |\n",
      "| SD Quality  | YES                   | YES                 | YES                               |\n",
      "| HD Quality  | NO                    | YES                 | YES                               |\n",
      "| UHD Quality | NO                    | NO                  | YES                               |\n",
      "| Devices     | 1                     | 2                   | 4                                 |\n",
      "| Content     | 3rd Party Movies Only | Basic Plan + Sports | All Plan + Original Series/Movies |\n",
      "| Price       | 120000                | 160000              | 200000                            |\n"
     ]
    }
   ],
   "source": [
    "#database\n",
    "\n",
    "my_plan = User('Cahya')\n",
    "my_plan.check_benefit()"
   ]
  },
  {
   "cell_type": "code",
   "execution_count": 47,
   "id": "fb292118-f189-40d2-9d21-bcbcecd33842",
   "metadata": {},
   "outputs": [
    {
     "name": "stdout",
     "output_type": "stream",
     "text": [
      " Current Plan is : Standard Plan \n",
      " Plan Duration is : 24 Bulan \n",
      " Plan Details as follow :\n",
      " \n",
      " Standard Plan Pacflix List from Cahya is:\n",
      " \n",
      "| SERVICES    | STANDARD PLAN                                  |\n",
      "|-------------|------------------------------------------------|\n",
      "| Stream      | YES                                            |\n",
      "| Download    | YES                                            |\n",
      "| SD Quality  | YES                                            |\n",
      "| HD Quality  | YES                                            |\n",
      "| UHD Quality | NO                                             |\n",
      "| Devices     | 2                                              |\n",
      "| Content     | Basic Plan + Sports (F1, Football, Basketball) |\n",
      "| Price       | 160000                                         |\n"
     ]
    }
   ],
   "source": [
    "my_plan.check_plan(my_plan.username)"
   ]
  },
  {
   "cell_type": "code",
   "execution_count": 48,
   "id": "2f49f016-ab3f-4255-bc26-a749c3813748",
   "metadata": {},
   "outputs": [
    {
     "ename": "UnboundLocalError",
     "evalue": "cannot access local variable 'grad_cp' where it is not associated with a value",
     "output_type": "error",
     "traceback": [
      "\u001b[1;31m---------------------------------------------------------------------------\u001b[0m",
      "\u001b[1;31mUnboundLocalError\u001b[0m                         Traceback (most recent call last)",
      "Cell \u001b[1;32mIn[48], line 1\u001b[0m\n\u001b[1;32m----> 1\u001b[0m \u001b[43mmy_plan\u001b[49m\u001b[38;5;241;43m.\u001b[39;49m\u001b[43mupgrade_plan\u001b[49m\u001b[43m(\u001b[49m\u001b[43mmy_plan\u001b[49m\u001b[38;5;241;43m.\u001b[39;49m\u001b[43musername\u001b[49m\u001b[43m,\u001b[49m\u001b[43m \u001b[49m\u001b[38;5;124;43m'\u001b[39;49m\u001b[38;5;124;43mPremium Plan\u001b[39;49m\u001b[38;5;124;43m'\u001b[39;49m\u001b[43m)\u001b[49m\n",
      "Cell \u001b[1;32mIn[45], line 110\u001b[0m, in \u001b[0;36mUser.upgrade_plan\u001b[1;34m(self, username, new_plan)\u001b[0m\n\u001b[0;32m    107\u001b[0m     grad_cp \u001b[38;5;241m=\u001b[39m val[\u001b[38;5;241m0\u001b[39m]\n\u001b[0;32m    108\u001b[0m     grad_np \u001b[38;5;241m=\u001b[39m grading[new_plan][\u001b[38;5;241m1\u001b[39m]\n\u001b[1;32m--> 110\u001b[0m \u001b[38;5;28mprint\u001b[39m(\u001b[38;5;124mf\u001b[39m\u001b[38;5;124m'\u001b[39m\u001b[38;5;124mGrading Current Plan is : \u001b[39m\u001b[38;5;132;01m{\u001b[39;00m\u001b[43mgrad_cp\u001b[49m\u001b[38;5;132;01m}\u001b[39;00m\u001b[38;5;124m'\u001b[39m)\n\u001b[0;32m    111\u001b[0m \u001b[38;5;28mprint\u001b[39m(\u001b[38;5;124mf\u001b[39m\u001b[38;5;124m'\u001b[39m\u001b[38;5;124mGrading New plan is : \u001b[39m\u001b[38;5;132;01m{\u001b[39;00mgrad_np\u001b[38;5;132;01m}\u001b[39;00m\u001b[38;5;124m'\u001b[39m)\n\u001b[0;32m    112\u001b[0m \u001b[38;5;28mprint\u001b[39m(\u001b[38;5;124m'\u001b[39m\u001b[38;5;124m-------------\u001b[39m\u001b[38;5;124m'\u001b[39m)\n",
      "\u001b[1;31mUnboundLocalError\u001b[0m: cannot access local variable 'grad_cp' where it is not associated with a value"
     ]
    }
   ],
   "source": [
    "my_plan.upgrade_plan(my_plan.username, 'Premium Plan')"
   ]
  },
  {
   "cell_type": "code",
   "execution_count": 49,
   "id": "daadb293-31a4-4a02-8d0a-ed468eef7fb3",
   "metadata": {},
   "outputs": [
    {
     "name": "stdout",
     "output_type": "stream",
     "text": [
      "10\n"
     ]
    }
   ],
   "source": [
    "grading = {\n",
    "    'Basic Plan' : [1, 10],\n",
    "    'Standard Plan' : [2, 20],\n",
    "    'Premium Plan' : [3, 30]\n",
    "}\n",
    "\n",
    "# Access the 2nd value of 'Basic Plan'\n",
    "second_value = grading['Basic Plan'][1]\n",
    "\n",
    "print(second_value)"
   ]
  },
  {
   "cell_type": "code",
   "execution_count": null,
   "id": "3911f9d2-a12b-4283-a92a-8b89b2efb594",
   "metadata": {},
   "outputs": [],
   "source": []
  }
 ],
 "metadata": {
  "kernelspec": {
   "display_name": "Python 3 (ipykernel)",
   "language": "python",
   "name": "python3"
  },
  "language_info": {
   "codemirror_mode": {
    "name": "ipython",
    "version": 3
   },
   "file_extension": ".py",
   "mimetype": "text/x-python",
   "name": "python",
   "nbconvert_exporter": "python",
   "pygments_lexer": "ipython3",
   "version": "3.11.1"
  }
 },
 "nbformat": 4,
 "nbformat_minor": 5
}
