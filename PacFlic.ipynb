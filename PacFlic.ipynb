{
 "cells": [
  {
   "cell_type": "markdown",
   "id": "c2af6f9d-1a73-49a8-8f89-ff0afb2de0e0",
   "metadata": {},
   "source": [
    "Case Study"
   ]
  },
  {
   "cell_type": "code",
   "execution_count": 1,
   "id": "5ac4d7c5-032d-4d86-9041-d958f4a7e701",
   "metadata": {},
   "outputs": [],
   "source": [
    "from tabulate import tabulate\n",
    "import random\n",
    "from random import choice\n",
    "import string\n",
    "from typing import Dict, List\n",
    "\n",
    "# tinggal di run saja\n",
    "database = {\n",
    "    \"Shandy\": [\"Basic Plan\", 12, \"shandy-2134\"],\n",
    "    \"Cahya\": [\"Standard Plan\", 24, \"cahya-abcd\"],\n",
    "    \"Ana\": [\"Premium Plan\", 5, \"ana-2f9g\"],\n",
    "    \"Bagus\": [\"Basic Plan\", 11, \"bagus-9f92\"],\n",
    "    \"Yudhi\" : [\"Basic Plan\", 16, \"layudhi_123\"]\n",
    "}\n",
    "\n",
    "class User():\n",
    "    def __init__(self, username):\n",
    "        self.username = username\n",
    "        #self.current_plan = current_plan\n",
    "        #self.duration_plan = duration_plan\n",
    "\n",
    "    def check_benefit(self):\n",
    "        data = [\n",
    "            ['Stream', 'YES', 'YES', 'YES'],\n",
    "            ['Download', 'YES', 'YES', 'YES'],\n",
    "            ['SD Quality', 'YES', 'YES', 'YES'],\n",
    "            ['HD Quality', 'NO', 'YES', 'YES'],\n",
    "            ['UHD Quality', 'NO', 'NO', 'YES'],\n",
    "            ['Devices', 1, 2, 4],\n",
    "            ['Content', '3rd Party Movies Only', 'Basic Plan + Sports',\n",
    "             'All Plan + Original Series/Movies'],\n",
    "            ['Price', 120_000, 160_000, 200_000]\n",
    "        ]\n",
    "\n",
    "        headers = ['SERVICES', 'BASIC PLAN', 'STANDARD PLAN', 'PREMIUM PLAN']\n",
    "        table_benefit = tabulate(data, headers,tablefmt='github')\n",
    "        print('Pacflix Subscription Plan')\n",
    "        print(' ')\n",
    "        print(table_benefit)\n",
    "        \n",
    "    def check_plan(self, username):\n",
    "        for key, value in database.items():\n",
    "            if key == self.username:\n",
    "                print(f' Current Plan is : {value[0]} \\n Plan Duration is : {value[1]} Bulan \\n Plan Details as follow :')\n",
    "                print(' ')\n",
    "\n",
    "                try:\n",
    "                    if value[0] == 'Basic Plan':\n",
    "                        table = [\n",
    "                            ['Stream', 'YES'],\n",
    "                            ['Download', 'YES'],\n",
    "                            ['SD Quality', 'YES'],\n",
    "                            ['HD Quality', 'NO'],\n",
    "                            ['UHD Quality', 'NO'],\n",
    "                            ['Devices', 1],\n",
    "                            ['Content', '3rd Party Movies Only'],\n",
    "                            ['Price', 120_000]\n",
    "                        ]\n",
    "                        headers = ['SERVICES', 'BASIC PLAN']\n",
    "                        print(f'{value[0]} Pacflix List from {self.username} is:')\n",
    "                        print(' ')\n",
    "                        print(tabulate(table, headers,tablefmt='github'))\n",
    "                        \n",
    "                    elif value[0] == 'Standard Plan':\n",
    "                        table = [\n",
    "                            ['Stream', 'YES'],\n",
    "                            ['Download', 'YES'],\n",
    "                            ['SD Quality', 'YES'],\n",
    "                            ['HD Quality', 'YES'],\n",
    "                            ['UHD Quality', 'NO'],\n",
    "                            ['Devices', 2],\n",
    "                            ['Content', 'Basic Plan + Sports (F1, Football, Basketball)'],\n",
    "                            ['Price', 160_000]\n",
    "                        ]\n",
    "                        headers = ['SERVICES', 'STANDARD PLAN']\n",
    "                        print(f' {value[0]} Pacflix List from {self.username} is:')\n",
    "                        print(' ')\n",
    "                        print(tabulate(table, headers,tablefmt='github'))\n",
    "\n",
    "                    elif value[0] == 'Premium Plan':\n",
    "                        table = [\n",
    "                            ['Stream', 'YES'],\n",
    "                            ['Download', 'YES'],\n",
    "                            ['SD Quality', 'YES'],\n",
    "                            ['HD Quality', 'YES'],\n",
    "                            ['UHD Quality', 'YES'],\n",
    "                            ['Devices', 4],\n",
    "                            ['Content', 'All Plan + PacFlic original Series or Movie'],\n",
    "                            ['Price', 200_000]\n",
    "                        ]\n",
    "                        headers = ['SERVICES', 'PREMIUM PLAN']\n",
    "                        print(f' {value[0]} Pacflix List from {self.username} is:')\n",
    "                        print(' ')\n",
    "                        print(tabulate(table, headers,tablefmt='github'))\n",
    "\n",
    "                    else:\n",
    "                        raise Exception('No Plan')\n",
    "                except:\n",
    "                    print('Plan do not exist')\n",
    "\n",
    "    def upgrade_plan(self, username, new_plan):\n",
    "        grading = {'Basic Plan' : [1, 1],\n",
    "                   'Standard Plan' : [2, 2],\n",
    "                   'Premium Plan' : [3, 3]\n",
    "                  }\n",
    "\n",
    "        for i, val in grading.items():\n",
    "            if i == new_plan:\n",
    "                grad_np = val[0]\n",
    "\n",
    "        for key, value in database.items():\n",
    "            if key == self.username:\n",
    "                if value[0] == 'Basic Plan':\n",
    "                    grad_cp = 1\n",
    "                elif value[0] == 'Standard Plan':\n",
    "                    grad_cp = 2\n",
    "                elif value[0] == 'Premium Plan':\n",
    "                    grad_cp = 3\n",
    "\n",
    "                                \n",
    "                try:\n",
    "                    print(f'Current Duration Plan is : {value[1]}')\n",
    "                    print(f'Grading Current Plan is : {grad_cp}')\n",
    "                    print(f'Grading New plan is : {grad_np}')\n",
    "                    \n",
    "                    print('-------------')\n",
    "                    \n",
    "                    if grad_np == grad_cp:\n",
    "                        print(f'Cannot proceed with same request plan \\n Current Plan : {value[0]} \\n New Plan : {new_plan}')\n",
    "                    elif grad_np < grad_cp:\n",
    "                        print(f'Cannot proceed to downgrade plan \\n Current Plan : {value[0]} \\n New Plan : {new_plan}')\n",
    "                    elif grad_np > grad_cp:\n",
    "                        if value[1] > 12:\n",
    "                            if new_plan == 'Standard Plan':\n",
    "                                price = 160000 - (0.05 * 120000)\n",
    "                                print(f'Total Cost (with discount 5%) to be paid is: {price}')\n",
    "                                #return price\n",
    "                            elif new_plan == 'Premium Plan':\n",
    "                                price = 200000 - (0.05 * 200000)\n",
    "                                print(f'Total Cost (with discount 5%) to be paid is: {price}')\n",
    "                                #return price\n",
    "                        elif value[1] <= 12:\n",
    "                            if new_plan == 'Standard Plan':\n",
    "                                price = 160000\n",
    "                                print(f'Total Cost to be paid is: {price}')\n",
    "                                #return price\n",
    "                            elif new_plan == 'Premium Plan':\n",
    "                                price = 200000\n",
    "                                print(f'Total Cost to be paid is: {price}')\n",
    "                                #return price\n",
    "                            \n",
    "                except:\n",
    "                    print('Provided plan description do not exsist')\n",
    "\n",
    "\n",
    "class Newuser():\n",
    "    checked_list=[]\n",
    "    def __init__(self, username):\n",
    "        self.username = username\n",
    "\n",
    "    def add_user(self, plan, duration):\n",
    "        ref_code = self.username.lower()+'-'+''.join(choice(string.digits) for _ in range(4))\n",
    "        database.update({self.username : [plan, duration, ref_code]})\n",
    "        return database\n",
    "    \n",
    "    def list(self, data):\n",
    "        for val in data.values():\n",
    "            referal_code = val[2]\n",
    "            self.checked_list.append(referal_code)\n",
    "        return self.checked_list\n",
    "\n",
    "    def pick_plan(self, new_plan, referal):\n",
    "        try:\n",
    "            if referal in self.checked_list:\n",
    "                try:\n",
    "                    if new_plan == 'Basic Plan':\n",
    "                        price = 120_000 - (120_000 * 0.04)\n",
    "                        print(f'Your referal code is {referal} \\n Total Cost (with discount 4%) to be paid for {new_plan} is: {price}')\n",
    "                    if new_plan == 'Standard Plan':\n",
    "                        price = 160_000 - (160_000 * 0.04)\n",
    "                        print(f'Your referal code is {referal} \\n Total Cost (with discount 4%) to be paid for {new_plan} is: {price}')\n",
    "                    if new_plan == 'Premium Plan':\n",
    "                        price = 200_000 - (200_000 * 0.04)\n",
    "                        print(f'Your referal code is {referal} \\n Total Cost (with discount 4%) to be paid for {new_plan} is: {price}')\n",
    "                except:\n",
    "                    print(f' No {new_plan} in our Subscriptions Plan')\n",
    "            else:\n",
    "                print(f'No referal code {referal} in our database')\n",
    "        except:\n",
    "            print('Please check the arguments')\n",
    "        "
   ]
  },
  {
   "cell_type": "code",
   "execution_count": 2,
   "id": "4207a59c-67fb-406a-b142-6b055f15eec6",
   "metadata": {},
   "outputs": [
    {
     "name": "stdout",
     "output_type": "stream",
     "text": [
      "Pacflix Subscription Plan\n",
      " \n",
      "| SERVICES    | BASIC PLAN            | STANDARD PLAN       | PREMIUM PLAN                      |\n",
      "|-------------|-----------------------|---------------------|-----------------------------------|\n",
      "| Stream      | YES                   | YES                 | YES                               |\n",
      "| Download    | YES                   | YES                 | YES                               |\n",
      "| SD Quality  | YES                   | YES                 | YES                               |\n",
      "| HD Quality  | NO                    | YES                 | YES                               |\n",
      "| UHD Quality | NO                    | NO                  | YES                               |\n",
      "| Devices     | 1                     | 2                   | 4                                 |\n",
      "| Content     | 3rd Party Movies Only | Basic Plan + Sports | All Plan + Original Series/Movies |\n",
      "| Price       | 120000                | 160000              | 200000                            |\n"
     ]
    }
   ],
   "source": [
    "#database\n",
    "my_plan = User('Shandy')\n",
    "my_plan.check_benefit()"
   ]
  },
  {
   "cell_type": "code",
   "execution_count": 3,
   "id": "fb292118-f189-40d2-9d21-bcbcecd33842",
   "metadata": {},
   "outputs": [
    {
     "name": "stdout",
     "output_type": "stream",
     "text": [
      " Current Plan is : Basic Plan \n",
      " Plan Duration is : 12 Bulan \n",
      " Plan Details as follow :\n",
      " \n",
      "Basic Plan Pacflix List from Shandy is:\n",
      " \n",
      "| SERVICES    | BASIC PLAN            |\n",
      "|-------------|-----------------------|\n",
      "| Stream      | YES                   |\n",
      "| Download    | YES                   |\n",
      "| SD Quality  | YES                   |\n",
      "| HD Quality  | NO                    |\n",
      "| UHD Quality | NO                    |\n",
      "| Devices     | 1                     |\n",
      "| Content     | 3rd Party Movies Only |\n",
      "| Price       | 120000                |\n"
     ]
    }
   ],
   "source": [
    "my_plan.check_plan(my_plan.username)"
   ]
  },
  {
   "cell_type": "code",
   "execution_count": 4,
   "id": "2f49f016-ab3f-4255-bc26-a749c3813748",
   "metadata": {},
   "outputs": [
    {
     "name": "stdout",
     "output_type": "stream",
     "text": [
      "Current Duration Plan is : 12\n",
      "Grading Current Plan is : 1\n",
      "Grading New plan is : 2\n",
      "-------------\n",
      "Total Cost to be paid is: 160000\n"
     ]
    }
   ],
   "source": [
    "my_plan.upgrade_plan(my_plan.username, 'Standard Plan')"
   ]
  },
  {
   "cell_type": "code",
   "execution_count": 5,
   "id": "3911f9d2-a12b-4283-a92a-8b89b2efb594",
   "metadata": {},
   "outputs": [
    {
     "name": "stdout",
     "output_type": "stream",
     "text": [
      "Pacflix Subscription Plan\n",
      " \n",
      "| SERVICES    | BASIC PLAN            | STANDARD PLAN       | PREMIUM PLAN                      |\n",
      "|-------------|-----------------------|---------------------|-----------------------------------|\n",
      "| Stream      | YES                   | YES                 | YES                               |\n",
      "| Download    | YES                   | YES                 | YES                               |\n",
      "| SD Quality  | YES                   | YES                 | YES                               |\n",
      "| HD Quality  | NO                    | YES                 | YES                               |\n",
      "| UHD Quality | NO                    | NO                  | YES                               |\n",
      "| Devices     | 1                     | 2                   | 4                                 |\n",
      "| Content     | 3rd Party Movies Only | Basic Plan + Sports | All Plan + Original Series/Movies |\n",
      "| Price       | 120000                | 160000              | 200000                            |\n"
     ]
    }
   ],
   "source": [
    "my_plan2= User('Cahya')\n",
    "my_plan2.check_benefit()"
   ]
  },
  {
   "cell_type": "code",
   "execution_count": 6,
   "id": "2ec89122-ce61-4ccc-824b-e8eae40a1bea",
   "metadata": {},
   "outputs": [
    {
     "name": "stdout",
     "output_type": "stream",
     "text": [
      " Current Plan is : Standard Plan \n",
      " Plan Duration is : 24 Bulan \n",
      " Plan Details as follow :\n",
      " \n",
      " Standard Plan Pacflix List from Cahya is:\n",
      " \n",
      "| SERVICES    | STANDARD PLAN                                  |\n",
      "|-------------|------------------------------------------------|\n",
      "| Stream      | YES                                            |\n",
      "| Download    | YES                                            |\n",
      "| SD Quality  | YES                                            |\n",
      "| HD Quality  | YES                                            |\n",
      "| UHD Quality | NO                                             |\n",
      "| Devices     | 2                                              |\n",
      "| Content     | Basic Plan + Sports (F1, Football, Basketball) |\n",
      "| Price       | 160000                                         |\n"
     ]
    }
   ],
   "source": [
    "my_plan2.check_plan(my_plan.username)"
   ]
  },
  {
   "cell_type": "code",
   "execution_count": 7,
   "id": "e4a1dba1-7a17-4fad-b1e8-bc37f7e27a5f",
   "metadata": {},
   "outputs": [
    {
     "name": "stdout",
     "output_type": "stream",
     "text": [
      "Current Duration Plan is : 24\n",
      "Grading Current Plan is : 2\n",
      "Grading New plan is : 3\n",
      "-------------\n",
      "Total Cost (with discount 5%) to be paid is: 190000.0\n"
     ]
    }
   ],
   "source": [
    "my_plan2.upgrade_plan(my_plan.username, 'Premium Plan')"
   ]
  },
  {
   "cell_type": "code",
   "execution_count": 12,
   "id": "be831c27-c994-452a-ad58-8d820c63bcb8",
   "metadata": {},
   "outputs": [
    {
     "data": {
      "text/plain": [
       "['shandy-2134',\n",
       " 'cahya-abcd',\n",
       " 'ana-2f9g',\n",
       " 'bagus-9f92',\n",
       " 'layudhi_123',\n",
       " 'shandy-2134',\n",
       " 'cahya-abcd',\n",
       " 'ana-2f9g',\n",
       " 'bagus-9f92',\n",
       " 'layudhi_123',\n",
       " 'rio-7126']"
      ]
     },
     "execution_count": 12,
     "metadata": {},
     "output_type": "execute_result"
    }
   ],
   "source": [
    "my_plan3 = Newuser('Layudhi')\n",
    "my_plan3.list(database)"
   ]
  },
  {
   "cell_type": "code",
   "execution_count": 13,
   "id": "62dbd6d0-22d6-426b-a789-47a00ca29dcc",
   "metadata": {},
   "outputs": [
    {
     "name": "stdout",
     "output_type": "stream",
     "text": [
      "Your referal code is rio-7126 \n",
      " Total Cost (with discount 4%) to be paid for Basic Plan is: 115200.0\n"
     ]
    }
   ],
   "source": [
    "my_plan3.pick_plan('Basic Plan', 'rio-7126')"
   ]
  },
  {
   "cell_type": "code",
   "execution_count": 10,
   "id": "d8c9e6bd-4c25-4198-8eed-4ce10accbb9e",
   "metadata": {},
   "outputs": [],
   "source": [
    "my_plan4 = Newuser('Rio')"
   ]
  },
  {
   "cell_type": "code",
   "execution_count": 11,
   "id": "6027be39-c697-437e-955c-e1999d1690e0",
   "metadata": {},
   "outputs": [
    {
     "data": {
      "text/plain": [
       "{'Shandy': ['Basic Plan', 12, 'shandy-2134'],\n",
       " 'Cahya': ['Standard Plan', 24, 'cahya-abcd'],\n",
       " 'Ana': ['Premium Plan', 5, 'ana-2f9g'],\n",
       " 'Bagus': ['Basic Plan', 11, 'bagus-9f92'],\n",
       " 'Yudhi': ['Basic Plan', 16, 'layudhi_123'],\n",
       " 'Rio': ['Basic Plan', 6, 'rio-7126']}"
      ]
     },
     "execution_count": 11,
     "metadata": {},
     "output_type": "execute_result"
    }
   ],
   "source": [
    "my_plan4.add_user('Basic Plan', 6)"
   ]
  },
  {
   "cell_type": "code",
   "execution_count": null,
   "id": "30b97c3c-5975-4771-b976-51ae873d6d1b",
   "metadata": {},
   "outputs": [],
   "source": []
  }
 ],
 "metadata": {
  "kernelspec": {
   "display_name": "Python 3 (ipykernel)",
   "language": "python",
   "name": "python3"
  },
  "language_info": {
   "codemirror_mode": {
    "name": "ipython",
    "version": 3
   },
   "file_extension": ".py",
   "mimetype": "text/x-python",
   "name": "python",
   "nbconvert_exporter": "python",
   "pygments_lexer": "ipython3",
   "version": "3.11.1"
  }
 },
 "nbformat": 4,
 "nbformat_minor": 5
}
